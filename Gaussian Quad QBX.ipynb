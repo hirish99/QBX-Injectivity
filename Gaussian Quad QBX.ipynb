{
 "cells": [
  {
   "cell_type": "code",
   "execution_count": null,
   "id": "0c0977a0",
   "metadata": {},
   "outputs": [],
   "source": [
    "import numpy as np\n",
    "import matplotlib.pyplot as plt\n",
    "from scipy.linalg import lu\n",
    "from scipy.linalg import solve_triangular\n",
    "print(\"Hello\")"
   ]
  },
  {
   "cell_type": "code",
   "execution_count": null,
   "id": "285f0855",
   "metadata": {},
   "outputs": [],
   "source": [
    "N = 32\n",
    "x = np.polynomial.legendre.leggauss(N)"
   ]
  },
  {
   "cell_type": "code",
   "execution_count": null,
   "id": "5ec130c6",
   "metadata": {},
   "outputs": [],
   "source": [
    "points = x[0]\n",
    "weights = x[1]"
   ]
  },
  {
   "cell_type": "code",
   "execution_count": null,
   "id": "d8621890",
   "metadata": {},
   "outputs": [],
   "source": [
    "weights = weights * np.pi"
   ]
  },
  {
   "cell_type": "code",
   "execution_count": null,
   "id": "2ffe371b",
   "metadata": {},
   "outputs": [],
   "source": [
    "points = points * np.pi"
   ]
  },
  {
   "cell_type": "code",
   "execution_count": null,
   "id": "d84a2228",
   "metadata": {},
   "outputs": [],
   "source": [
    "def K(x,y,r):\n",
    "    numerator = np.sin(y-x) * (1-r)\n",
    "    denominator = np.abs(np.exp(1j * y) - (1-r) * np.exp(1j * x))**2\n",
    "    return numerator/denominator"
   ]
  },
  {
   "cell_type": "code",
   "execution_count": null,
   "id": "ce16fd7e",
   "metadata": {},
   "outputs": [],
   "source": [
    "interaction_matrix = K(points[:,None], points[None,:], 0.0001)"
   ]
  },
  {
   "cell_type": "code",
   "execution_count": null,
   "id": "8ea688a2",
   "metadata": {},
   "outputs": [],
   "source": [
    "interaction_matrix = interaction_matrix * weights"
   ]
  },
  {
   "cell_type": "code",
   "execution_count": null,
   "id": "878cef87",
   "metadata": {},
   "outputs": [],
   "source": [
    "plt.matshow(np.abs(interaction_matrix))\n",
    "plt.colorbar()\n",
    "plt.title(\"Interaction Matrix\")\n",
    "plt.show()"
   ]
  },
  {
   "cell_type": "code",
   "execution_count": null,
   "id": "e7b54df3",
   "metadata": {},
   "outputs": [],
   "source": [
    "n = interaction_matrix.shape[0]"
   ]
  },
  {
   "cell_type": "code",
   "execution_count": null,
   "id": "d00edf5d",
   "metadata": {},
   "outputs": [],
   "source": [
    "def solve(b):\n",
    "    P,L,U = lu(interaction_matrix - np.eye(N))\n",
    "    z = P.T @ b\n",
    "    y = solve_triangular(L, z, lower=True)\n",
    "    return solve_triangular(U, y)"
   ]
  },
  {
   "cell_type": "code",
   "execution_count": null,
   "id": "91976e48",
   "metadata": {},
   "outputs": [],
   "source": [
    "#Inverse Iteration around 1\n",
    "quotients = []\n",
    "x_k = np.ones(N)\n",
    "#Normalize\n",
    "x_k /= np.linalg.norm(x_k)\n",
    "for i in range(10):\n",
    "    x_k = solve(x_k)\n",
    "    x_k /= np.linalg.norm(x_k)\n",
    "    quotients.append(x_k.T @ interaction_matrix @ x_k)"
   ]
  },
  {
   "cell_type": "code",
   "execution_count": null,
   "id": "e0c7126d",
   "metadata": {},
   "outputs": [],
   "source": [
    "#Compute Rayleight Quotient\n",
    "plt.plot(quotients)\n",
    "plt.title(\"Closest Eigenvalue to 1 using Inverse Iteration\")"
   ]
  },
  {
   "cell_type": "code",
   "execution_count": null,
   "id": "87f67977",
   "metadata": {},
   "outputs": [],
   "source": []
  }
 ],
 "metadata": {
  "kernelspec": {
   "display_name": "Python 3",
   "language": "python",
   "name": "python3"
  },
  "language_info": {
   "codemirror_mode": {
    "name": "ipython",
    "version": 3
   },
   "file_extension": ".py",
   "mimetype": "text/x-python",
   "name": "python",
   "nbconvert_exporter": "python",
   "pygments_lexer": "ipython3",
   "version": "3.7.6"
  }
 },
 "nbformat": 4,
 "nbformat_minor": 5
}
